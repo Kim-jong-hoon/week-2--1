{
  "nbformat": 4,
  "nbformat_minor": 0,
  "metadata": {
    "colab": {
      "provenance": [],
      "authorship_tag": "ABX9TyN6B/uJ0iNFIR8w3shFF10v",
      "include_colab_link": true
    },
    "kernelspec": {
      "name": "python3",
      "display_name": "Python 3"
    },
    "language_info": {
      "name": "python"
    }
  },
  "cells": [
    {
      "cell_type": "markdown",
      "metadata": {
        "id": "view-in-github",
        "colab_type": "text"
      },
      "source": [
        "<a href=\"https://colab.research.google.com/github/Kim-jong-hoon/week-2--1/blob/main/Untitled0.ipynb\" target=\"_parent\"><img src=\"https://colab.research.google.com/assets/colab-badge.svg\" alt=\"Open In Colab\"/></a>"
      ]
    },
    {
      "cell_type": "code",
      "execution_count": null,
      "metadata": {
        "id": "srMpX1uDgV7Q"
      },
      "outputs": [],
      "source": []
    },
    {
      "cell_type": "markdown",
      "source": [
        "코딩"
      ],
      "metadata": {
        "id": "QW50S41JnkYa"
      }
    },
    {
      "cell_type": "code",
      "source": [
        "# 센서 데이터 (거리 측정값, 단위: 미터)\n",
        "sensors = {\n",
        "    \"앞\": 8.0,\n",
        "    \"왼쪽\": 15.0,\n",
        "    \"오른쪽\": 4.0\n",
        "}\n",
        "# 안전 거리 설정\n",
        "safe_distance = 10.0\n",
        "if __name__ == \"__main__\":\n",
        "    print(\"🚗 자율주행 장애물 감지 시스템\")\n",
        "    print(\"-\" * 30)\n",
        "\n",
        "dicision(sensors, safe_distance)  # main 밖에서 정의된 함수를 호출하는게 더 나은 코드.\n",
        "    print(f\"\\n:rotating_light: 감지된 장애물: {obstacles}\")\n",
        "\n",
        "\n",
        "def dicision(sensors, safe_distance):\n",
        "        obstacles = []\n",
        "        for direction, distance in sensors.items():\n",
        "            if distance < safe_distance:\n",
        "                obstacles.append(direction)\n",
        "        return obstacles\n",
        "\n",
        "    print(f\"\\n🚨 감지된 장애물: {obstacles}\")"
      ],
      "metadata": {
        "colab": {
          "base_uri": "https://localhost:8080/",
          "height": 110
        },
        "id": "7DY_kImrnk6Y",
        "outputId": "a91b2fe3-da7d-4641-c58f-615f2d2b176d"
      },
      "execution_count": 2,
      "outputs": [
        {
          "output_type": "error",
          "ename": "IndentationError",
          "evalue": "unindent does not match any outer indentation level (<tokenize>, line 20)",
          "traceback": [
            "\u001b[0;36m  File \u001b[0;32m\"<tokenize>\"\u001b[0;36m, line \u001b[0;32m20\u001b[0m\n\u001b[0;31m    print(f\"\\n🚨 감지된 장애물: {obstacles}\")\u001b[0m\n\u001b[0m    ^\u001b[0m\n\u001b[0;31mIndentationError\u001b[0m\u001b[0;31m:\u001b[0m unindent does not match any outer indentation level\n"
          ]
        }
      ]
    },
    {
      "cell_type": "markdown",
      "source": [
        "1번"
      ],
      "metadata": {
        "id": "XIBjHFN1syXd"
      }
    },
    {
      "cell_type": "code",
      "source": [
        "sensors = {\n",
        "    \"front\": 8.0,   # 앞쪽 센서 거리\n",
        "    \"left\": 15.0,   # 왼쪽 센서 거리\n",
        "    \"right\": 4.0    # 오른쪽 센서 거리\n",
        "}\n",
        "\n",
        "# 안전 거리 기준 설정\n",
        "safe_distance = 10.0\n",
        "\n",
        "# 장애물 리스트 초기화\n",
        "obstacles = []\n",
        "\n",
        "# 센서 데이터 순차적으로 확인\n",
        "for direction, distance in sensors.items():\n",
        "    if distance < safe_distance:\n",
        "        # 안전 거리보다 가까우면 장애물로 간주하고 추가\n",
        "        obstacles.append(direction)\n",
        "\n",
        "# 결과 출력\n",
        "if obstacles:\n",
        "    print(\"장애물 발견된 위치:\", obstacles)\n",
        "else:\n",
        "    print(\"장애물 없음\")"
      ],
      "metadata": {
        "colab": {
          "base_uri": "https://localhost:8080/"
        },
        "id": "dBDROfqPsyuM",
        "outputId": "abb85fb1-581b-42d4-a777-69c21b0c2a38"
      },
      "execution_count": 3,
      "outputs": [
        {
          "output_type": "stream",
          "name": "stdout",
          "text": [
            "장애물 발견된 위치: ['front', 'right']\n"
          ]
        }
      ]
    },
    {
      "cell_type": "markdown",
      "source": [
        "2번 시험"
      ],
      "metadata": {
        "id": "X_WQ1rc2s1W9"
      }
    },
    {
      "cell_type": "code",
      "source": [
        "sensors = {\n",
        "    \"front\": 5.0,   # 앞쪽 거리\n",
        "    \"left\": 7.0,    # 왼쪽 거리\n",
        "    \"right\": 9.0    # 오른쪽 거리\n",
        "}\n",
        "\n",
        "safe_distance = 10.0  # 안전 거리 기준 (10m)\n",
        "\n",
        "# 장애물 판단 함수\n",
        "def is_obstacle(distance):\n",
        "    return distance < safe_distance\n",
        "\n",
        "# 장애물 유무 판단\n",
        "front_blocked = is_obstacle(sensors[\"front\"])\n",
        "left_blocked = is_obstacle(sensors[\"left\"])\n",
        "right_blocked = is_obstacle(sensors[\"right\"])\n",
        "\n",
        "# 로직 분기\n",
        "if front_blocked:\n",
        "    if left_blocked and right_blocked:\n",
        "        print(\"⚠️ 모든 방향에 장애물 → 정지\")\n",
        "    elif left_blocked:\n",
        "        print(\"↪️ 앞 + 왼쪽 장애물 → 오른쪽으로 회피\")\n",
        "    elif right_blocked:\n",
        "        print(\"↩️ 앞 + 오른쪽 장애물 → 왼쪽으로 회피\")\n",
        "    else:\n",
        "        print(\"🔙 앞에만 장애물 → 후진\")\n",
        "else:\n",
        "    print(\"⬆️ 앞에 장애물 없음 → 직진\")\n",
        "\n",
        "# 프로그램 종료\n",
        "print(\"프로그램 종료\")"
      ],
      "metadata": {
        "colab": {
          "base_uri": "https://localhost:8080/"
        },
        "id": "tYbOvqfws4Ac",
        "outputId": "146bb3ff-238b-43cd-9149-5b218729759d"
      },
      "execution_count": 4,
      "outputs": [
        {
          "output_type": "stream",
          "name": "stdout",
          "text": [
            "⚠️ 모든 방향에 장애물 → 정지\n",
            "프로그램 종료\n"
          ]
        }
      ]
    }
  ]
}