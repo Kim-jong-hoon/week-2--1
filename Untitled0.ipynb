{
  "nbformat": 4,
  "nbformat_minor": 0,
  "metadata": {
    "colab": {
      "provenance": [],
      "authorship_tag": "ABX9TyOJI5JKts7kk8QkBFsH/6Zh",
      "include_colab_link": true
    },
    "kernelspec": {
      "name": "python3",
      "display_name": "Python 3"
    },
    "language_info": {
      "name": "python"
    }
  },
  "cells": [
    {
      "cell_type": "markdown",
      "metadata": {
        "id": "view-in-github",
        "colab_type": "text"
      },
      "source": [
        "<a href=\"https://colab.research.google.com/github/Kim-jong-hoon/week-2--1/blob/main/Untitled0.ipynb\" target=\"_parent\"><img src=\"https://colab.research.google.com/assets/colab-badge.svg\" alt=\"Open In Colab\"/></a>"
      ]
    },
    {
      "cell_type": "code",
      "execution_count": null,
      "metadata": {
        "id": "srMpX1uDgV7Q"
      },
      "outputs": [],
      "source": []
    },
    {
      "cell_type": "markdown",
      "source": [
        "코딩"
      ],
      "metadata": {
        "id": "QW50S41JnkYa"
      }
    },
    {
      "cell_type": "code",
      "source": [
        "# 센서 데이터 (거리 측정값, 단위: 미터)\n",
        "sensors = {\n",
        "    \"front\": 8.0,\n",
        "    \"left\": 15.0,\n",
        "    \"right\": 4.0\n",
        "}\n",
        "# 안전 거리 설정\n",
        "safe_distance = 10.0\n",
        "\n",
        "#장애물 감지 함수 정의, 센서 데이터와 안전거리가 변해도 동작하도록 했다.\n",
        "def dicision(sensors,safe_distance):\n",
        "    obstacles = []\n",
        "    for direction, distance in sensors.items():  # .items() 메소드로 딕셔너리를 튜플로 쪼갬.\n",
        "        if distance < safe_distance:\n",
        "            obstacles.append(direction)\n",
        "    return obstacles\n",
        "\n",
        "if __name__ == \"__main__\":\n",
        "    print(\":red_car: 자율주행 장애물 감지 시스템\")\n",
        "    print(\"-\" * 30)\n",
        "\n",
        "    obstacles = dicision(sensors, safe_distance)  # main 밖에서 정의된 함수를 호출하는게 더 나은 코드.\n",
        "    print(f\"\\n:rotating_light: 감지된 장애물: {obstacles}\")\n",
        "\n",
        "    #동작 정의\n",
        "    if len(obstacles) == 0:  #장애물이 아무것도 없는경우 그냥 \"직진\"\n",
        "      print(\"action : 직진\")\n",
        "    elif 'front' not in obstacles:  #정면에 장애물이 없는경우 \"주의해서 직진\"\n",
        "     print(\"action : 주의해서 직진\")\n",
        "    elif ('left' not in obstacles) and ('front' in obstacles):  #정면에 장애물이 있고, 왼쪽엔 없는경우 \"좌회전\"\n",
        "      print(\"acton : 좌회전\")\n",
        "    elif ('right' not in obstacles) and ('left' in obstacles) and ('front' in obstacles):  #정면과 왼쪽에 장애물이 있고, 오른쪽엔 없는경우 \"우회전\"\n",
        "     print(\"action : 우회전\")\n",
        "    elif ('right' in obstacles) and ('left' in obstacles) and ('front' in obstacles):  #모든 방향에 장애물이 있는 경우 \"정지\"\n",
        "     print(\"action : 정지\")"
      ],
      "metadata": {
        "colab": {
          "base_uri": "https://localhost:8080/"
        },
        "id": "7DY_kImrnk6Y",
        "outputId": "6537ca09-1209-4d62-dfda-ad070573a42e"
      },
      "execution_count": 6,
      "outputs": [
        {
          "output_type": "stream",
          "name": "stdout",
          "text": [
            ":red_car: 자율주행 장애물 감지 시스템\n",
            "------------------------------\n",
            "\n",
            ":rotating_light: 감지된 장애물: ['front', 'right']\n",
            "acton : 좌회전\n"
          ]
        }
      ]
    },
    {
      "cell_type": "markdown",
      "source": [
        "1번"
      ],
      "metadata": {
        "id": "XIBjHFN1syXd"
      }
    },
    {
      "cell_type": "code",
      "source": [
        "sensors = {\n",
        "    \"front\": 8.0,   # 앞쪽 센서 거리\n",
        "    \"left\": 15.0,   # 왼쪽 센서 거리\n",
        "    \"right\": 4.0    # 오른쪽 센서 거리\n",
        "}\n",
        "\n",
        "# 안전 거리 기준 설정\n",
        "safe_distance = 10.0\n",
        "\n",
        "# 장애물 리스트 초기화\n",
        "obstacles = []\n",
        "\n",
        "# 센서 데이터 순차적으로 확인\n",
        "for direction, distance in sensors.items():\n",
        "    if distance < safe_distance:\n",
        "        # 안전 거리보다 가까우면 장애물로 간주하고 추가\n",
        "        obstacles.append(direction)\n",
        "\n",
        "# 결과 출력\n",
        "if obstacles:\n",
        "    print(\"장애물 발견된 위치:\", obstacles)\n",
        "else:\n",
        "    print(\"장애물 없음\")"
      ],
      "metadata": {
        "colab": {
          "base_uri": "https://localhost:8080/"
        },
        "id": "dBDROfqPsyuM",
        "outputId": "abb85fb1-581b-42d4-a777-69c21b0c2a38"
      },
      "execution_count": 3,
      "outputs": [
        {
          "output_type": "stream",
          "name": "stdout",
          "text": [
            "장애물 발견된 위치: ['front', 'right']\n"
          ]
        }
      ]
    },
    {
      "cell_type": "markdown",
      "source": [
        "2번 시험"
      ],
      "metadata": {
        "id": "X_WQ1rc2s1W9"
      }
    },
    {
      "cell_type": "code",
      "source": [
        "sensors = {\n",
        "    \"front\": 5.0,   # 앞쪽 거리\n",
        "    \"left\": 7.0,    # 왼쪽 거리\n",
        "    \"right\": 9.0    # 오른쪽 거리\n",
        "}\n",
        "\n",
        "safe_distance = 10.0  # 안전 거리 기준 (10m)\n",
        "\n",
        "# 장애물 판단 함수\n",
        "def is_obstacle(distance):\n",
        "    return distance < safe_distance\n",
        "\n",
        "# 장애물 유무 판단\n",
        "front_blocked = is_obstacle(sensors[\"front\"])\n",
        "left_blocked = is_obstacle(sensors[\"left\"])\n",
        "right_blocked = is_obstacle(sensors[\"right\"])\n",
        "\n",
        "# 로직 분기\n",
        "if front_blocked:\n",
        "    if left_blocked and right_blocked:\n",
        "        print(\"⚠️ 모든 방향에 장애물 → 정지\")\n",
        "    elif left_blocked:\n",
        "        print(\"↪️ 앞 + 왼쪽 장애물 → 오른쪽으로 회피\")\n",
        "    elif right_blocked:\n",
        "        print(\"↩️ 앞 + 오른쪽 장애물 → 왼쪽으로 회피\")\n",
        "    else:\n",
        "        print(\"🔙 앞에만 장애물 → 후진\")\n",
        "else:\n",
        "    print(\"⬆️ 앞에 장애물 없음 → 직진\")\n",
        "\n",
        "# 프로그램 종료\n",
        "print(\"프로그램 종료\")"
      ],
      "metadata": {
        "colab": {
          "base_uri": "https://localhost:8080/"
        },
        "id": "tYbOvqfws4Ac",
        "outputId": "146bb3ff-238b-43cd-9149-5b218729759d"
      },
      "execution_count": 4,
      "outputs": [
        {
          "output_type": "stream",
          "name": "stdout",
          "text": [
            "⚠️ 모든 방향에 장애물 → 정지\n",
            "프로그램 종료\n"
          ]
        }
      ]
    }
  ]
}